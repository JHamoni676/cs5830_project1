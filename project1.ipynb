{
 "cells": [
  {
   "cell_type": "code",
   "execution_count": 45,
   "id": "28b8cd51-d295-4136-b0f7-965bb828e80f",
   "metadata": {},
   "outputs": [],
   "source": [
    "import pandas as pd\n",
    "import matplotlib.pyplot as plt\n",
    "import seaborn as sns"
   ]
  },
  {
   "cell_type": "code",
   "execution_count": null,
   "id": "d21b7280",
   "metadata": {},
   "outputs": [],
   "source": [
    "\n",
    "batting_df = pd.read_csv('core/Batting.csv')\n",
    "home_runs_per_year = batting_df.groupby('yearID')['HR'].sum().reset_index()\n",
    "plt.figure(figsize=(10, 6))\n",
    "sns.lineplot(x='yearID', y='HR', data=home_runs_per_year)\n",
    "plt.axvline(x=1920, color='red', linestyle='--') #Dead-ball\n",
    "plt.axvline(x=1900, color='red', linestyle='--') \n",
    "plt.axvline(x=1973, color='green', linestyle='--') #DH rule\n",
    "plt.axvline(x=1994, color='purple', linestyle='--') #Steroids\n",
    "plt.axvline(x=2005, color='purple', linestyle='--')\n",
    "plt.axvline(x=2014, color='black', linestyle='--')\n",
    "plt.title('Yearly Trends in Home Runs')\n",
    "plt.xlabel('Year')\n",
    "plt.ylabel('Total Home Runs')\n",
    "plt.show()"
   ]
  },
  {
   "cell_type": "code",
   "execution_count": null,
   "id": "b7313c61",
   "metadata": {},
   "outputs": [],
   "source": []
  }
 ],
 "metadata": {
  "kernelspec": {
   "display_name": "Python 3 (ipykernel)",
   "language": "python",
   "name": "python3"
  },
  "language_info": {
   "codemirror_mode": {
    "name": "ipython",
    "version": 3
   },
   "file_extension": ".py",
   "mimetype": "text/x-python",
   "name": "python",
   "nbconvert_exporter": "python",
   "pygments_lexer": "ipython3",
   "version": "3.10.1"
  }
 },
 "nbformat": 4,
 "nbformat_minor": 5
}
