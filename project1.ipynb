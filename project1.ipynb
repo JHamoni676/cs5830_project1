{
 "cells": [
  {
   "cell_type": "code",
   "execution_count": 22,
   "id": "28b8cd51-d295-4136-b0f7-965bb828e80f",
   "metadata": {},
   "outputs": [],
   "source": [
    "import pandas as pd\n",
    "import matplotlib.pyplot as plt\n",
    "import seaborn as sns"
   ]
  },
  {
   "cell_type": "markdown",
   "id": "f5ea7f07",
   "metadata": {},
   "source": [
    "### Average homeruns per year"
   ]
  },
  {
   "cell_type": "code",
   "execution_count": null,
   "id": "d21b7280",
   "metadata": {},
   "outputs": [],
   "source": [
    "\n",
    "df = pd.read_csv('core/Batting.csv')\n",
    "batting_df = df[df['HR'] > 0]\n",
    "home_runs_per_year = batting_df.groupby('yearID')['HR'].sum().reset_index()\n",
    "sns.lineplot(x='yearID', y='HR', data=home_runs_per_year)\n",
    "plt.axvline(x=1920, color='red', linestyle='--') #Dead-ball\n",
    "plt.axvline(x=1900, color='red', linestyle='--') \n",
    "plt.axvline(x=1973, color='green', linestyle='--') #DH rule\n",
    "plt.axvline(x=1994, color='purple', linestyle='--') #Steroids\n",
    "plt.axvline(x=2005, color='purple', linestyle='--')\n",
    "plt.title('Yearly Trends in Home Runs')\n",
    "plt.xlabel('Year')\n",
    "plt.ylabel('Total Home Runs')\n",
    "plt.show()"
   ]
  },
  {
   "cell_type": "markdown",
   "id": "438b5bf8",
   "metadata": {},
   "source": [
    "### Regular vs post season batting averages"
   ]
  },
  {
   "cell_type": "code",
   "execution_count": null,
   "id": "b7313c61",
   "metadata": {},
   "outputs": [],
   "source": [
    "df = pd.read_csv('core/Batting.csv')\n",
    "post_df = pd.read_csv('core/BattingPost.csv')\n",
    "batting_df = df[df['AB'] > 0]\n",
    "batting_post_df = post_df[post_df['AB'] > 0]\n",
    "batting_avg = batting_df.groupby('yearID').agg({'H': 'sum', 'AB': 'sum'})\n",
    "batting_avg['BA'] = batting_avg['H'] / batting_avg['AB']\n",
    "batting_post_avg = batting_post_df.groupby('yearID').agg({'H': 'sum', 'AB': 'sum'})\n",
    "batting_post_avg['BA'] = batting_post_avg['H'] / batting_post_avg['AB']\n",
    "plt.plot(batting_avg.index, batting_avg['BA'], label='Regular Season BA', color='blue')\n",
    "plt.plot(batting_post_avg.index, batting_post_avg['BA'], label='Postseason BA', color='red')\n",
    "plt.xlabel('Year')\n",
    "plt.ylabel('Batting Average')\n",
    "plt.title('Regular Season vs Postseason Batting Averages by Year')\n",
    "plt.legend()\n",
    "plt.show()"
   ]
  },
  {
   "cell_type": "markdown",
   "id": "519c20b7",
   "metadata": {},
   "source": [
    "### Regular Season vs Post Season HBP per Game by Year"
   ]
  },
  {
   "cell_type": "code",
   "execution_count": null,
   "id": "8d4ad073",
   "metadata": {},
   "outputs": [],
   "source": [
    "\n",
    "pitching_regular_hbp = pitching_df.groupby('yearID').agg({'HBP': 'sum', 'G': 'sum'}).reset_index()\n",
    "pitching_regular_hbp['HBP_per_game'] = pitching_regular_hbp['HBP'] / pitching_regular_hbp['G']\n",
    "pitching_regular_hbp.rename(columns={'HBP': 'RegularSeason_HBP', 'G': 'RegularSeason_Games'}, inplace=True)\n",
    "pitching_post_hbp = pitching_post_df.groupby('yearID').agg({'HBP': 'sum', 'G': 'sum'}).reset_index()\n",
    "pitching_post_hbp['HBP_per_game'] = pitching_post_hbp['HBP'] / pitching_post_hbp['G']\n",
    "pitching_post_hbp.rename(columns={'HBP': 'PostSeason_HBP', 'G': 'PostSeason_Games'}, inplace=True)\n",
    "hbp_comparison = pd.merge(\n",
    "    pitching_regular_hbp[['yearID', 'RegularSeason_HBP', 'HBP_per_game']], \n",
    "    pitching_post_hbp[['yearID', 'PostSeason_HBP', 'HBP_per_game']], \n",
    "    on='yearID', how='outer', suffixes=('_regular', '_post'))\n",
    "plt.plot(hbp_comparison['yearID'], hbp_comparison['HBP_per_game_regular'], label='Regular Season HBP per Game', color='blue')\n",
    "plt.plot(hbp_comparison['yearID'], hbp_comparison['HBP_per_game_post'], label='Postseason HBP per Game', color='red')\n",
    "plt.xlabel('Year')\n",
    "plt.ylabel('HBP per Game')\n",
    "plt.title('Regular Season vs Postseason HBP per Game by Year')\n",
    "plt.legend()\n",
    "plt.show()"
   ]
  },
  {
   "cell_type": "code",
   "execution_count": null,
   "id": "c5f4a3f2",
   "metadata": {},
   "outputs": [],
   "source": []
  }
 ],
 "metadata": {
  "kernelspec": {
   "display_name": "Python 3 (ipykernel)",
   "language": "python",
   "name": "python3"
  },
  "language_info": {
   "codemirror_mode": {
    "name": "ipython",
    "version": 3
   },
   "file_extension": ".py",
   "mimetype": "text/x-python",
   "name": "python",
   "nbconvert_exporter": "python",
   "pygments_lexer": "ipython3",
   "version": "3.10.1"
  }
 },
 "nbformat": 4,
 "nbformat_minor": 5
}
