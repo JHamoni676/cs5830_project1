{
 "cells": [
  {
   "cell_type": "code",
   "execution_count": 78,
   "id": "28b8cd51-d295-4136-b0f7-965bb828e80f",
   "metadata": {},
   "outputs": [],
   "source": [
    "import pandas as pd\n",
    "import matplotlib.pyplot as plt\n",
    "import seaborn as sns"
   ]
  },
  {
   "cell_type": "markdown",
   "id": "f5ea7f07",
   "metadata": {},
   "source": [
    "### Average homeruns per year"
   ]
  },
  {
   "cell_type": "code",
   "execution_count": null,
   "id": "d21b7280",
   "metadata": {},
   "outputs": [],
   "source": [
    "df = pd.read_csv('core/Batting.csv')\n",
    "batting_df = df[df['HR'] > 0]\n",
    "home_runs_per_year = batting_df.groupby('yearID')['HR'].sum().reset_index()\n",
    "plt.figure(figsize=(10, 6))\n",
    "sns.lineplot(x='yearID', y='HR', data=home_runs_per_year)\n",
    "plt.axvline(x=1919, color='red', linestyle='--') \n",
    "plt.axvline(x=1901, color='red', linestyle='--')  \n",
    "plt.axvline(x=1920, color='blue', linestyle='--') \n",
    "plt.axvline(x=1941, color='blue', linestyle='--')\n",
    "plt.axvline(x=1942, color='yellow', linestyle='--') \n",
    "plt.axvline(x=1960, color='yellow', linestyle='--')\n",
    "plt.axvline(x=1961, color='green', linestyle='--') \n",
    "plt.axvline(x=1976, color='green', linestyle='--') \n",
    "plt.axvline(x=1977, color='purple', linestyle='--') \n",
    "plt.axvline(x=1993, color='purple', linestyle='--') \n",
    "plt.axvline(x=1994, color='orange', linestyle='--') \n",
    "plt.axvline(x=2005, color='orange', linestyle='--') \n",
    "plt.title('Yearly Trends in Home Runs')\n",
    "plt.xlabel('Year')\n",
    "plt.ylabel('Total Home Runs')\n",
    "plt.show()\n"
   ]
  },
  {
   "cell_type": "markdown",
   "id": "1d284c6c-f123-48b0-8e10-83474271dd3d",
   "metadata": {},
   "source": [
    "### Average attendance per year"
   ]
  },
  {
   "cell_type": "code",
   "execution_count": null,
   "id": "2bdc99a6-3a59-4440-ab0e-eab37d68793d",
   "metadata": {},
   "outputs": [],
   "source": [
    "df = pd.read_csv('core/teams.csv')\n",
    "df.attendance = df.attendance/df.Ghome\n",
    "attendance_per_year = df.groupby('yearID')['attendance'].mean().reset_index()\n",
    "plt.figure(figsize=(10, 6))\n",
    "sns.lineplot(x='yearID', y='attendance', data=attendance_per_year)\n",
    "plt.axvline(x=1920, color='red', linestyle='--')\n",
    "plt.axvline(x=1900, color='red', linestyle='--') \n",
    "plt.axvline(x=1973, color='green', linestyle='--')\n",
    "plt.axvline(x=1994, color='purple', linestyle='--')\n",
    "plt.axvline(x=2005, color='purple', linestyle='--')\n",
    "plt.axvline(x=2014, color='black', linestyle='--')\n",
    "plt.title('Yearly Trends in Average Attendance')\n",
    "plt.xlabel('Year')\n",
    "plt.ylabel('Attednance')\n",
    "plt.show()"
   ]
  },
  {
   "cell_type": "markdown",
   "id": "dc51e2d7-3552-4690-a6ce-555ecc79dbe4",
   "metadata": {},
   "source": [
    "## Winning percentage vs attendance"
   ]
  },
  {
   "cell_type": "code",
   "execution_count": null,
   "id": "f6738a9e-5dc3-45e1-85b8-01ca4cd5353e",
   "metadata": {},
   "outputs": [],
   "source": [
    "teams = pd.read_csv('core/Teams.csv')\n",
    "teams.attendance = teams.attendance/teams.Ghome\n",
    "teams['WP']=teams.W/ teams.G\n",
    "def classify_era(year):\n",
    "    if 1901 <= year <= 1920:\n",
    "        return \"Dead Ball era (1901 - 1920)\"\n",
    "    elif 1921 <= year <= 1942:\n",
    "        return \"Live Ball era (1921 - 1942)\"\n",
    "    elif 1943 <= year <= 1961:\n",
    "        return \"Integration era (1943 - 1961\"\n",
    "    elif 1962 <= year <= 1977:\n",
    "        return \"Expansion era (1962 -1977)\"\n",
    "    elif 1978 <= year <= 1994:\n",
    "        return \"Free Agent era (1978 - 1994)\"\n",
    "    elif 1995 <= year <= 2004:\n",
    "        return \"Steroid era (1995 - 2004)\"\n",
    "    elif 2005 <= year <= 2014:\n",
    "        return \"Contemporary era (2005 - 2014)\"\n",
    "    else:\n",
    "        return None\n",
    "teams['Era'] = teams.yearID.apply(classify_era)\n",
    "plt.figure (figsize = (10,8))\n",
    "sns.scatterplot(data=teams, x = 'WP', y ='attendance', hue = 'Era')\n",
    "plt.ylabel('Average Home Attendance in a year')\n",
    "plt.xlabel('Winning percentage of team in that year')"
   ]
  },
  {
   "cell_type": "markdown",
   "id": "438b5bf8",
   "metadata": {},
   "source": [
    "### Regular vs post season batting averages"
   ]
  },
  {
   "cell_type": "code",
   "execution_count": null,
   "id": "b7313c61",
   "metadata": {},
   "outputs": [],
   "source": [
    "df = pd.read_csv('core/Batting.csv')\n",
    "post_df = pd.read_csv('core/BattingPost.csv')\n",
    "batting_df = df[df['AB'] > 0]\n",
    "batting_post_df = post_df[post_df['AB'] > 0]\n",
    "batting_avg = batting_df.groupby('yearID').agg({'H': 'sum', 'AB': 'sum'})\n",
    "batting_avg['BA'] = batting_avg['H'] / batting_avg['AB']\n",
    "batting_post_avg = batting_post_df.groupby('yearID').agg({'H': 'sum', 'AB': 'sum'})\n",
    "batting_post_avg['BA'] = batting_post_avg['H'] / batting_post_avg['AB']\n",
    "plt.figure(figsize=(10, 6))\n",
    "plt.plot(batting_avg.index, batting_avg['BA'], label='Regular Season BA', color='blue')\n",
    "plt.plot(batting_post_avg.index, batting_post_avg['BA'], label='Postseason BA', color='red')\n",
    "plt.axvline(x=1960, color='red', linestyle='--')\n",
    "plt.xlabel('Year')\n",
    "plt.ylabel('Batting Average')\n",
    "plt.title('Regular Season vs Postseason Batting Averages by Year')\n",
    "plt.legend()\n",
    "plt.show()"
   ]
  },
  {
   "cell_type": "markdown",
   "id": "0aa45975-601d-482d-999b-96fca49e7111",
   "metadata": {},
   "source": [
    "## Salary over Time\n",
    "### Requires inflation data"
   ]
  },
  {
   "cell_type": "code",
   "execution_count": null,
   "id": "9a2d0c0e-a646-4dd3-9a1a-f0de061bcb63",
   "metadata": {},
   "outputs": [],
   "source": [
    "salary = pd.read_csv('core/Salaries.csv')\n",
    "inflation = pd.read_csv('core/inflation_us.csv')\n",
    "inflation.columns = ['yearID','rate']\n",
    "salary_year = salary.groupby('yearID').agg({'salary':'mean'}).reset_index()\n",
    "salary_year = salary_year.merge(inflation, on ='yearID')\n",
    "salary_year['rate'] = salary_year['rate'] / 100\n",
    "salary_year['inflation_adjusted_salary'] = salary_year['salary'].copy()\n",
    "for i in range(1, len(salary_year)):\n",
    "    salary_year.loc[i, 'inflation_adjusted_salary'] = salary_year.loc[i-1, 'inflation_adjusted_salary'] * (1 + salary_year.loc[i-1, 'rate'])\n",
    "salary_year['yearID'] = salary_year['yearID'].astype(str)\n",
    "fig, ax = plt.subplots(figsize=(8,5))\n",
    "sns.barplot(data=salary_year, x='yearID', y='salary', ax=ax, color='skyblue', label='Actual Salary')\n",
    "sns.lineplot(data=salary_year, x='yearID', y='inflation_adjusted_salary', ax=ax, color='red', marker='o', label='Inflation-Adjusted from Base Salary')\n",
    "plt.xticks(rotation=90)\n",
    "plt.tight_layout()\n",
    "ax.set_xlabel('Year')\n",
    "ax.set_ylabel('Salary ($)')\n",
    "ax.set_title('Actual Salary and inflation-adjusted Base Salary (1985) over time')\n",
    "ax.legend()\n",
    "plt.show()\n",
    "\n"
   ]
  },
  {
   "cell_type": "code",
   "execution_count": null,
   "id": "e7950221-3ae0-4b10-b71d-90e5f1821266",
   "metadata": {},
   "outputs": [],
   "source": []
  }
 ],
 "metadata": {
  "kernelspec": {
   "display_name": "Python 3 (ipykernel)",
   "language": "python",
   "name": "python3"
  },
  "language_info": {
   "codemirror_mode": {
    "name": "ipython",
    "version": 3
   },
   "file_extension": ".py",
   "mimetype": "text/x-python",
   "name": "python",
   "nbconvert_exporter": "python",
   "pygments_lexer": "ipython3",
   "version": "3.11.5"
  }
 },
 "nbformat": 4,
 "nbformat_minor": 5
}
